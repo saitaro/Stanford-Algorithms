{
 "cells": [
  {
   "cell_type": "code",
   "execution_count": 4,
   "metadata": {
    "collapsed": false
   },
   "outputs": [
    {
     "name": "stdout",
     "output_type": "stream",
     "text": [
      "42\n"
     ]
    }
   ],
   "source": [
    "# finds the number of sums t for which there are distinct x and y: x + y = t\n",
    "\n",
    "numbers = set()\n",
    "#numbers = {-22, 12, 71, -102, 4, 7, 32, -13, 1, 3, -102}\n",
    "\n",
    "with open('C:/Users/NewVici/Dropbox/[Current Project]/2sum.txt') as file:\n",
    "    for row in file:\n",
    "        numbers.add(int(row))\n",
    "\n",
    "count = 0\n",
    "\n",
    "for t in range(-10000, 10001):\n",
    "    for n in numbers:\n",
    "        if t-n in numbers and n != t-n:\n",
    "            count += 1\n",
    "            break\n",
    "\n",
    "print count # 427 (for the file)"
   ]
  }
 ],
 "metadata": {
  "kernelspec": {
   "display_name": "Python 2",
   "language": "python",
   "name": "python2"
  },
  "language_info": {
   "codemirror_mode": {
    "name": "ipython",
    "version": 2
   },
   "file_extension": ".py",
   "mimetype": "text/x-python",
   "name": "python",
   "nbconvert_exporter": "python",
   "pygments_lexer": "ipython2",
   "version": "2.7.12"
  }
 },
 "nbformat": 4,
 "nbformat_minor": 0
}
