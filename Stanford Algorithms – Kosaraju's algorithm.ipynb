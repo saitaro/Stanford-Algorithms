{
 "cells": [
  {
   "cell_type": "code",
   "execution_count": 4,
   "metadata": {
    "collapsed": false
   },
   "outputs": [
    {
     "name": "stdout",
     "output_type": "stream",
     "text": [
      "% Done: 20.9599664641\n",
      "% Done: 62.8798993922\n",
      "[152, 88, 82, 76, 66]\n"
     ]
    }
   ],
   "source": [
    "# Kosaraju algorithm counting strongly connected components (SCC), working solution\n",
    "\n",
    "from collections import defaultdict, deque\n",
    "import itertools as it\n",
    "import random as r\n",
    "import heapq\n",
    "from timeit import Timer\n",
    "\n",
    "graph = defaultdict(set)\n",
    "invert = defaultdict(set)\n",
    "Allkeys = set()\n",
    "\n",
    "# SCC \t\t5391.8s\t[434821, 968, 459, 313, 211]\t875714\n",
    "# SCC1k   \t0.64s\t[152, 88, 82, 76, 66]\t\t4771\n",
    "# SCC2k\t\t2.7s\t[152, 114, 97, 96, 88]\t\t9541\n",
    "# SCC5k\t  \t11.4s \t[231, 202, 158, 126, 123]\t19878\n",
    "# SCC10k  \t43.9s\t[261, 244, 219, 198, 196]\t38340\n",
    "# SCC50k  \t690.6s \t[28235, 704, 293, 237, 160]\t143870\n",
    "# SCC100k \t1803.1s [63621, 704, 143, 141, 126]\t238987\n",
    "# ~O(x^1.64)\n",
    "\n",
    "# test33300 test63210 test33200 test71000  test testinvert\n",
    "\n",
    "with open(\"C:/SCC1k.txt\", 'r') as file:\n",
    "    for line in file:\n",
    "        tail, head = line.split()\n",
    "        tail, head = int(tail), int(head)\n",
    "        graph[tail].add(head)\n",
    "        invert[head].add(tail)\n",
    "        Allkeys.add(tail)\n",
    "        Allkeys.add(head)\n",
    "\n",
    "length, percent, thou = len(Allkeys), len(Allkeys)*0.01, set(range(1000,1000000,2000))\n",
    "#print length\n",
    "\n",
    "def kosaraju(graph, ft=list(), pool=deque(), visited=set(), start=None, n=0):\n",
    "    pool.append(start) if start else pool.append(r.choice(tuple(Allkeys)))\n",
    "    while pool:\n",
    "        last = pool[-1]\n",
    "        visited.add(last)\n",
    "        k = graph[last] - visited\n",
    "        if k:\n",
    "            pool.extend(k)\t\n",
    "        else:\n",
    "            del pool[-1]\n",
    "            if not start and last not in ft:\n",
    "                ft.append(last)\n",
    "                \n",
    "        if not pool:\n",
    "            if start:\n",
    "                return visited, len(visited)\n",
    "            else:\n",
    "                try: pool.append(r.choice(tuple(Allkeys-visited)))\n",
    "                except: pass\n",
    "    else:\n",
    "        return ft\n",
    "\n",
    "def SCC(graph, stack=kosaraju(invert), lengths=deque(), done=set()):\n",
    "    while stack:\n",
    "        u = stack.pop()\n",
    "        if u not in done:\n",
    "            j = len(done)\n",
    "            pack, n = kosaraju(graph, ft=set(), pool=deque(), visited=done, start=u)\n",
    "            lengths.append(n-j)\n",
    "            done |= pack\n",
    "    return heapq.nlargest(5, lengths) # ,scc\n",
    "\n",
    "print SCC(graph)\n",
    "#print kosaraju(invert)\n",
    "#print graph"
   ]
  }
 ],
 "metadata": {
  "kernelspec": {
   "display_name": "Python 2",
   "language": "python",
   "name": "python2"
  },
  "language_info": {
   "codemirror_mode": {
    "name": "ipython",
    "version": 2
   },
   "file_extension": ".py",
   "mimetype": "text/x-python",
   "name": "python",
   "nbconvert_exporter": "python",
   "pygments_lexer": "ipython2",
   "version": "2.7.12"
  }
 },
 "nbformat": 4,
 "nbformat_minor": 0
}
