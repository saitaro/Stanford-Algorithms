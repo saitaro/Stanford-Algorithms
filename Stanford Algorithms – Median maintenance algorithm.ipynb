{
 "cells": [
  {
   "cell_type": "code",
   "execution_count": 13,
   "metadata": {
    "collapsed": false
   },
   "outputs": [
    {
     "name": "stdout",
     "output_type": "stream",
     "text": [
      "1213\n"
     ]
    }
   ],
   "source": [
    "# returns the list of the medians for the incremental unsorted list\n",
    "\n",
    "from heapq import *\n",
    "from collections import Counter\n",
    "\n",
    "low     = []\n",
    "high    = []\n",
    "medians = Counter()\n",
    "\n",
    "with open('C:/Users/NewVici/Dropbox/[Current Project]/_Median.txt') as file:\n",
    "    for row in file: # file [1,2,3,4,5,6] [1,-2,3,4,5,-6]\n",
    "        new = int(row)\n",
    "        if not low or new < -low[0]:\n",
    "            heappush(low, -new)\n",
    "        else:\n",
    "            heappush(high, new)\n",
    "        if len(low) > len(high) + 1:\n",
    "            heappush(high, -heappop(low))\n",
    "        elif len(high) > len(low) + 1:\n",
    "            heappush(low, -heappop(high))\n",
    "        length = len(low) + len(high)\n",
    "        if not low or not high:\n",
    "            medians[high[0] if not low else -low[0]] += 1\n",
    "        elif length % 2:\n",
    "            medians[high[0] if len(high) > len(low) else -low[0]] += 1\n",
    "        else:\n",
    "            medians[-low[0]] += 1\n",
    "\n",
    "print sum(item[0] * item[1] for item in medians.items()) % 10000 #medians"
   ]
  }
 ],
 "metadata": {
  "kernelspec": {
   "display_name": "Python 2",
   "language": "python",
   "name": "python2"
  },
  "language_info": {
   "codemirror_mode": {
    "name": "ipython",
    "version": 2
   },
   "file_extension": ".py",
   "mimetype": "text/x-python",
   "name": "python",
   "nbconvert_exporter": "python",
   "pygments_lexer": "ipython2",
   "version": "2.7.12"
  }
 },
 "nbformat": 4,
 "nbformat_minor": 0
}
