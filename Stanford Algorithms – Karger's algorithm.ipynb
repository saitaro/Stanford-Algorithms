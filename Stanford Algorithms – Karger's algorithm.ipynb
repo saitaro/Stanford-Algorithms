{
 "cells": [
  {
   "cell_type": "code",
   "execution_count": 1,
   "metadata": {
    "collapsed": false,
    "scrolled": false
   },
   "outputs": [
    {
     "name": "stdout",
     "output_type": "stream",
     "text": [
      "136 ([162, 162, 162, 162, 162, 162, 162, 162, 162, 162, 162, 162, 162, 162, 162, 162, 162, 162, 162, 162, 162, 162, 162, 162, 162, 162, 162, 162, 162, 162, 162, 162, 162, 162, 162, 162, 162, 162, 162, 162, 162, 162, 162, 162, 162, 162, 162, 162, 162, 162, 162, 162, 162, 162, 162, 162, 162, 162, 162, 162, 162, 162, 162, 162, 162, 162, 162, 162, 162, 162, 162, 162, 162, 162, 162, 162, 162, 162, 162, 162, 162, 162, 162, 162, 162, 162, 162, 162, 162, 162, 162, 162, 162, 162, 162, 162, 162, 162, 162, 162, 162, 162, 162, 162, 162, 162, 162, 162, 162, 162, 162, 162, 162, 162, 162, 162, 162, 162, 162, 162, 162, 162, 162, 162, 162, 162, 162, 162, 162, 162, 162, 162, 162, 162, 162, 162], [4, 4, 4, 4, 4, 4, 4, 4, 4, 4, 4, 4, 4, 4, 4, 4, 4, 4, 4, 4, 4, 4, 4, 4, 4, 4, 4, 4, 4, 4, 4, 4, 4, 4, 4, 4, 4, 4, 4, 4, 4, 4, 4, 4, 4, 4, 4, 4, 4, 4, 4, 4, 4, 4, 4, 4, 4, 4, 4, 4, 4, 4, 4, 4, 4, 4, 4, 4, 4, 4, 4, 4, 4, 4, 4, 4, 4, 4, 4, 4, 4, 4, 4, 4, 4, 4, 4, 4, 4, 4, 4, 4, 4, 4, 4, 4, 4, 4, 4, 4, 4, 4, 4, 4, 4, 4, 4, 4, 4, 4, 4, 4, 4, 4, 4, 4, 4, 4, 4, 4, 4, 4, 4, 4, 4, 4, 4, 4, 4, 4, 4, 4, 4, 4, 4, 4])\n"
     ]
    }
   ],
   "source": [
    "# contraction algorithm (counting minimum cut), working solution\n",
    "\n",
    "import random\n",
    "\n",
    "with open(\"C:/kargerMinCut.txt\") as file:\n",
    "    graph = {j[0]: j[1:] for j in [[int(i) for i in x.split()] for x in file]}\n",
    "\n",
    "minimum = 1000000 # real minimum: 17 cuts (197-62, 138-6, 200-61, 140-65, 132-36, 128-79 etc.)\n",
    "\n",
    "for i in range(1000000):\n",
    "    while len(graph) > 2:\n",
    "        for u in graph:\n",
    "            if u in graph[u]:\n",
    "                graph[u] = [x for x in graph[u] if x is not u]\n",
    "        k = random.choice(graph.keys())\n",
    "        j = random.choice(graph[k])\n",
    "        graph[k] += graph[j]\n",
    "        del graph[j]\n",
    "        graph[k].remove(k)\n",
    "        graph[k].remove(j)\n",
    "        for i in graph:\n",
    "            if j in graph[i]:\n",
    "                graph[i] = [x if x is not j else k for x in graph[i]]\n",
    "\n",
    "    for u in graph:\n",
    "        if u in graph[u]:\n",
    "            graph[u] = [x for x in graph[u] if x is not u]\n",
    "            \n",
    "    l1, l2 = graph[graph.keys()[0]], graph[graph.keys()[1]]\n",
    "    if len(l1) < minimum:\n",
    "        minimum, path = len(l1), (l1, l2)\n",
    "\n",
    "print minimum, path"
   ]
  }
 ],
 "metadata": {
  "kernelspec": {
   "display_name": "Python 2",
   "language": "python",
   "name": "python2"
  },
  "language_info": {
   "codemirror_mode": {
    "name": "ipython",
    "version": 2
   },
   "file_extension": ".py",
   "mimetype": "text/x-python",
   "name": "python",
   "nbconvert_exporter": "python",
   "pygments_lexer": "ipython2",
   "version": "2.7.12"
  }
 },
 "nbformat": 4,
 "nbformat_minor": 0
}
