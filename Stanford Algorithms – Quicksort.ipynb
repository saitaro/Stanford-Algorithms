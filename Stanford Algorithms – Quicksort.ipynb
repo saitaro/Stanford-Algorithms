{
 "cells": [
  {
   "cell_type": "code",
   "execution_count": 8,
   "metadata": {
    "collapsed": false
   },
   "outputs": [
    {
     "name": "stdout",
     "output_type": "stream",
     "text": [
      "10 loops, best of 3: 74.5 ms per loop\n"
     ]
    }
   ],
   "source": [
    "# quicksort, wokring solution\n",
    "from random import randrange, shuffle\n",
    "mylist = range(30)\n",
    "shuffle(mylist)\n",
    "\n",
    "def quick(array):\n",
    "    n = len(array)\n",
    "    if n < 2:\n",
    "        return array\n",
    "    pivot = array[randrange(n)]\n",
    "    small, big = [], []\n",
    "    for i in array:\n",
    "        if i < pivot:\n",
    "            small.append(i)\n",
    "        elif i > pivot:\n",
    "            big.insert(0,i)\n",
    "    return quick(small) + [pivot] + quick(big)\n",
    "\n",
    "    print quick(mylist)\n",
    "    \n",
    "#mylist1.insert(len(mylist)-1,mylist.pop(0))\n",
    "with open(\"C:/QuickSort4.txt\", 'r') as file:\n",
    "    array = [int(x) for x in file]\n",
    "\n",
    "#print mylist\n",
    "#print quick(array)\n",
    "%timeit quick(array)"
   ]
  },
  {
   "cell_type": "code",
   "execution_count": 12,
   "metadata": {
    "collapsed": false
   },
   "outputs": [
    {
     "ename": "ValueError",
     "evalue": "cannot compute fingerprint of empty list",
     "output_type": "error",
     "traceback": [
      "\u001b[1;31m---------------------------------------------------------------------------\u001b[0m",
      "\u001b[1;31mValueError\u001b[0m                                Traceback (most recent call last)",
      "\u001b[1;32m<ipython-input-12-f817f1d368e3>\u001b[0m in \u001b[0;36m<module>\u001b[1;34m()\u001b[0m\n\u001b[0;32m     29\u001b[0m \u001b[1;33m\u001b[0m\u001b[0m\n\u001b[0;32m     30\u001b[0m \u001b[1;31m#%timeit quick(array)\u001b[0m\u001b[1;33m\u001b[0m\u001b[1;33m\u001b[0m\u001b[0m\n\u001b[1;32m---> 31\u001b[1;33m \u001b[1;32mprint\u001b[0m \u001b[0mquick\u001b[0m\u001b[1;33m(\u001b[0m\u001b[0marray\u001b[0m\u001b[1;33m)\u001b[0m\u001b[1;33m\u001b[0m\u001b[0m\n\u001b[0m",
      "\u001b[1;31mValueError\u001b[0m: cannot compute fingerprint of empty list"
     ]
    }
   ],
   "source": [
    "#from numba import jit\n",
    "# quicksort + comparisons, working solution\n",
    "l = [3,8,2,5,1,4,7,6]  # HOPEFULLY CORRECT: 162085, 164123, 138382\n",
    "#@jit\n",
    "\n",
    "def quick(array):\n",
    "    n = len(array)\n",
    "    if n < 2:\n",
    "        return array, 0\n",
    "    first, last = array[0], array[-1]\n",
    "    if n % 2:\n",
    "        mid = sorted([first, array[(n/2)], last])[1]\n",
    "    else:\n",
    "        mid = sorted([first, array[(n/2)-1], last])[1]\n",
    "    #pivot = first \n",
    "    #pivot = last \n",
    "    pivot = mid\n",
    "    array[array.index(pivot)], array[0] = array[0], array[array.index(pivot)]\n",
    "    k = 1\n",
    "    for j, i in enumerate(array):\n",
    "        if i < pivot:\n",
    "            array[j], array[k] = array[k], array[j]\n",
    "            k += 1\n",
    "    array[0], array[k-1] = array[k-1], array[0]\n",
    "    (smaller, cs), (bigger, cb) = quick(array[:k-1]), quick(array[k:])\n",
    "    return smaller + [pivot] + bigger, n-1 + cs + cb\n",
    "\n",
    "with open(\"C:/QuickSort4.txt\", 'r') as file:\n",
    "    array = [int(x) for x in file]\n",
    "\n",
    "%timeit quick(array)\n",
    "#print quick(array)"
   ]
  },
  {
   "cell_type": "code",
   "execution_count": null,
   "metadata": {
    "collapsed": true
   },
   "outputs": [],
   "source": [
    "def quick(array):\n",
    "    n = len(array)\n",
    "    if n < 2:\n",
    "        return array\n",
    "    pivot = array[random.randrange(n)]\n",
    "    array[array.index(pivot)], array[0] = array[0], array[array.index(pivot)]\n",
    "    k = 1\n",
    "    for j, i in enumerate(array):\n",
    "        if i < pivot:\n",
    "            array[j], array[k] = array[k], array[j]\n",
    "            k += 1\n",
    "    array[0], array[k-1] = array[k-1], array[0]\n",
    "    return quick(array[:k-1]) + [pivot] + quick(array[k:])\n",
    "\n",
    "print quick(mylist)"
   ]
  }
 ],
 "metadata": {
  "kernelspec": {
   "display_name": "Python 2",
   "language": "python",
   "name": "python2"
  },
  "language_info": {
   "codemirror_mode": {
    "name": "ipython",
    "version": 2
   },
   "file_extension": ".py",
   "mimetype": "text/x-python",
   "name": "python",
   "nbconvert_exporter": "python",
   "pygments_lexer": "ipython2",
   "version": "2.7.12"
  }
 },
 "nbformat": 4,
 "nbformat_minor": 0
}
