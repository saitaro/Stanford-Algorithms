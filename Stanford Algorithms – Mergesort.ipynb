{
 "cells": [
  {
   "cell_type": "code",
   "execution_count": 6,
   "metadata": {
    "collapsed": false
   },
   "outputs": [
    {
     "name": "stdout",
     "output_type": "stream",
     "text": [
      "\n"
     ]
    }
   ],
   "source": [
    "# time on 10k: ~ 1.08s\n",
    "# merge sort + inversions, working solution\n",
    "mylist1 = [ 13, 12, 11, 45, 9, 0, 7, 7, 16, 0.5, 4, 31, 2, 1 ]\n",
    "import random\n",
    "\n",
    "mylist = random.sample(range(10000), 10000)\n",
    "\n",
    "def merge(array, inv=0):\n",
    "    n = len(array)\n",
    "    if n is 1:\n",
    "        return array, 0\n",
    "    A = merge(array[:n/2], inv)\n",
    "    B = merge(array[n/2:], inv)\n",
    "    for i in [A,B]:\n",
    "        inv += i[1]\n",
    "    A, B = A[0], B[0]\n",
    "    i = j = 0\n",
    "    output = []\n",
    "    while i < len(A) and j < len(B):\n",
    "        if A[i] < B[j]:\n",
    "            output.append(A[i])\n",
    "            inv += j\n",
    "            i += 1\n",
    "        else:\n",
    "            output.append(B[j])\n",
    "            j += 1\n",
    "            if j == len(B):\n",
    "                inv += len(A[i:])*j\n",
    "    output += A[i:]\n",
    "    output += B[j:]\n",
    "    return output, inv\n",
    "\n",
    "#print merge(mylist)\n",
    "\n",
    "with open(\"C:/IntegerArray.txt\", 'r') as file:\n",
    "    IntegerArray = [int(x) for x in file]\n",
    "\n",
    "print merge(IntegerArray)"
   ]
  },
  {
   "cell_type": "code",
   "execution_count": 8,
   "metadata": {
    "collapsed": false
   },
   "outputs": [
    {
     "name": "stdout",
     "output_type": "stream",
     "text": [
      "\n"
     ]
    }
   ],
   "source": [
    "# merge sort\n",
    "mylist1 = [ 3, 2, 7, 8, 1, 4, 5, 9 ]\n",
    "mylist2 = [ 3, 2, 1 ]\n",
    "\n",
    "def merge(array):\n",
    "    n = len(array)\n",
    "    if n is 1:\n",
    "        return array\n",
    "    A = merge(array[:n/2])\n",
    "    B = merge(array[n/2:])\n",
    "    i = j = 0\n",
    "    output = []\n",
    "    while i < len(A) and j < len(B):\n",
    "        if A[i] < B[j]:\n",
    "            output.append(A[i])\n",
    "            i += 1\n",
    "        else:\n",
    "            output.append(B[j])\n",
    "            j += 1\n",
    "    output += A[i:]\n",
    "    output += B[j:]\n",
    "    return output\n",
    "\n",
    "with open(\"C:/IntegerArray.txt\", 'r') as file:\n",
    "    IntegerArray = [int(x) for x in file]\n",
    "\n",
    "print #merge(mylist1)"
   ]
  },
  {
   "cell_type": "code",
   "execution_count": 3,
   "metadata": {
    "collapsed": false
   },
   "outputs": [
    {
     "name": "stdout",
     "output_type": "stream",
     "text": [
      "\n"
     ]
    }
   ],
   "source": [
    "# time on 10k: ~ 1.2s\n",
    "\n",
    "# Code from MIT course\n",
    "import operator\n",
    "def merge(left,right,compare):\n",
    "    result=[]\n",
    "    i,j=0,0\n",
    "    while i<len(left) and j<len(right):\n",
    "        if compare(left[i],right[j]):\n",
    "            result.append(left[i])\n",
    "            i+=1\n",
    "        else:\n",
    "            result.append(right[j])\n",
    "            j+=1\n",
    "    while (i<len(left)):\n",
    "        result.append(left[i])\n",
    "        i+=1\n",
    "    while (j<len(right)):\n",
    "        result.append(right[j])\n",
    "        j+=1\n",
    "    return result\n",
    "def mergeSort(L,compare=operator.lt):\n",
    "    if len(L)<2:\n",
    "        return L[:]\n",
    "    else:\n",
    "        middle =int(len(L)/2)\n",
    "        left=mergeSort(L[:middle], compare)\n",
    "        right=mergeSort(L[middle:], compare)\n",
    "        return merge(left,right,compare)\n",
    "    \n",
    "mylist = [ 13, 12, 11, 45, 9, 0, 7, 7, 16, 0.5, 4, 31, 2, 1 ]\n",
    "\n",
    "print #mergeSort(array)"
   ]
  },
  {
   "cell_type": "code",
   "execution_count": 1,
   "metadata": {
    "collapsed": false
   },
   "outputs": [
    {
     "name": "stdout",
     "output_type": "stream",
     "text": [
      "[0, 1, 2, 3, 4, 5, 6, 7, 8, 9]\n"
     ]
    }
   ],
   "source": [
    "# time on 10k: ~ 1.1s\n",
    "\n",
    "def msort(x):\n",
    "    result = []\n",
    "    if len(x) < 2:\n",
    "        return x\n",
    "    mid = int(len(x)/2)\n",
    "    y = msort(x[:mid])\n",
    "    z = msort(x[mid:])\n",
    "    i = 0\n",
    "    j = 0\n",
    "    while i < len(y) and j < len(z):\n",
    "            if y[i] > z[j]:\n",
    "                result.append(z[j])\n",
    "                j += 1\n",
    "            else:\n",
    "                result.append(y[i])\n",
    "                i += 1\n",
    "    result += y[i:]\n",
    "    result += z[j:]\n",
    "    return result\n",
    "\n",
    "print msort([5, 3, 8, 9, 1, 7, 0, 2, 6, 4])"
   ]
  },
  {
   "cell_type": "code",
   "execution_count": 3,
   "metadata": {
    "collapsed": false
   },
   "outputs": [
    {
     "name": "stdout",
     "output_type": "stream",
     "text": [
      "[5] [3]\n",
      "[9] [1]\n",
      "[8] [1, 9]\n",
      "[3, 5] [1, 8, 9]\n",
      "[7] [0]\n",
      "[6] [4]\n",
      "[2] [4, 6]\n",
      "[0, 7] [2, 4, 6]\n",
      "[1, 3, 5, 8, 9] [0, 2, 4, 6, 7]\n",
      "[0, 1, 2, 3, 4, 5, 6, 7, 8, 9]\n"
     ]
    }
   ],
   "source": [
    "# time on 10k: ~ 1.08s \n",
    "\n",
    "def merge_sort(sequence):\n",
    "    if len(sequence) < 2:\n",
    "        return sequence\n",
    "    m = len(sequence) / 2\n",
    "    return merge(merge_sort(sequence[:m]), merge_sort(sequence[m:]))\n",
    "\n",
    "\n",
    "def merge(left, right):\n",
    "    print left, right\n",
    "    result = []\n",
    "    i = j = 0\n",
    "    while i < len(left) and j < len(right):\n",
    "        if left[i] < right[j]:\n",
    "            result.append(left[i])\n",
    "            i += 1\n",
    "        else:\n",
    "            result.append(right[j])\n",
    "            j += 1\n",
    "    result += left[i:]\n",
    "    result += right[j:]\n",
    "\n",
    "    return result\n",
    "\n",
    "\n",
    "print merge_sort([5, 3, 8, 9, 1, 7, 0, 2, 6, 4])"
   ]
  }
 ],
 "metadata": {
  "kernelspec": {
   "display_name": "Python 2",
   "language": "python",
   "name": "python2"
  },
  "language_info": {
   "codemirror_mode": {
    "name": "ipython",
    "version": 2
   },
   "file_extension": ".py",
   "mimetype": "text/x-python",
   "name": "python",
   "nbconvert_exporter": "python",
   "pygments_lexer": "ipython2",
   "version": "2.7.12"
  }
 },
 "nbformat": 4,
 "nbformat_minor": 0
}
