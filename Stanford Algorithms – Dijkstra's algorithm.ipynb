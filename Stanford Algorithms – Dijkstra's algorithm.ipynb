{
 "cells": [
  {
   "cell_type": "code",
   "execution_count": 2,
   "metadata": {
    "collapsed": false
   },
   "outputs": [
    {
     "name": "stdout",
     "output_type": "stream",
     "text": [
      "(12, ['1', '3', '5', '4', '2', '6', '7', '9'])\n"
     ]
    }
   ],
   "source": [
    "# Dijkstra's algorithm for finding the shortest paths in grath, working solution\n",
    "\n",
    "from heapq import heappush, heappop\n",
    "from itertools import chain\n",
    "\n",
    "graph = {} # dijkstraTest1 dijkstraTest2 dijkstraData\n",
    "\n",
    "with open(\"C:/Users/NewVici/Dropbox/dijkstra/dijkstraTest2.txt\", 'r') as file:\n",
    "    for line in file:\n",
    "        tail, heads = line.split()[0], line.split()[1:]\n",
    "        graph[tail] = [float('inf'), {i[0]: int(i[1]) for i in [x.split(',') for x in heads]}, None]\n",
    "        \n",
    "'''\n",
    "dijkstraTest2:\n",
    "1 [0, {'3': 2, '2': 9, '4': 6}, None]\n",
    "2 [6, {'6': 4}, '4']\n",
    "3 [2, {'5': 1, '4': 3}, '1']\n",
    "4 [4, {'2': 2, '7': 9, '6': 7}, '5']\n",
    "5 [3, {'8': 6, '4': 1}, '3']\n",
    "6 [10, {'9': 5, '7': 1}, '2']\n",
    "7 [11, {'9': 1, '8': 5}, '6']\n",
    "8 [9, {'9': 5}, '5']\n",
    "9 [12, {}, '7']\n",
    "'''\n",
    "\n",
    "def dijkstra(graph, A, B=None, visited=set(), heap=[]):\n",
    "    nodes = set(chain.from_iterable(graph[x][1].keys() for x in graph))\n",
    "    if B and B not in set(graph)|nodes:\n",
    "        return 'No such node in graph: %s' %B   \n",
    "    if A not in graph:\n",
    "        if A not in nodes:\n",
    "            return 'No such node in graph: %s' %A\n",
    "        else:\n",
    "            if B:\n",
    "                if B is A:\n",
    "                    return (0, [A])\n",
    "                else:\n",
    "                    return None\n",
    "            return graph\n",
    "    graph[A][0] = 0\n",
    "    heappush(heap, (graph[A][0], A))\n",
    "    while heap:\n",
    "        unit = heappop(heap)[1]\n",
    "        visited.add(unit)\n",
    "        for node in graph[unit][1]:\n",
    "            if node not in visited:\n",
    "                if node not in graph:\n",
    "                    graph[node] = [float('inf'), dict(), unit]\n",
    "                if graph[unit][0] + graph[unit][1][node] < graph[node][0]:\n",
    "                    graph[node][0] = graph[unit][0] + graph[unit][1][node]\n",
    "                    graph[node][2] = unit\n",
    "                heappush(heap, (graph[node][0], node))\n",
    "    if B:\n",
    "        if graph[B][0] == float('inf'):\n",
    "            return None\n",
    "        path = [B, graph[B][2]]\n",
    "        while path[-1]:\n",
    "            path.append(graph[path[-1]][2])\n",
    "        return graph[B][0], list(reversed(path[:-1]))\n",
    "    else:\n",
    "        return graph\n",
    "    \n",
    "#results = dijkstra(graph, '1')\n",
    "#for i in [str(x) for x in range(1, 10)]: \n",
    "#    print \"Distance from 1 to %s: %s\" %(i, graph[i][0])\n",
    "\n",
    "#print dijkstra(graph, '1') # returns graph with \"node: [distance to x, {outgoing edges}, parent node]\"\n",
    "print dijkstra(graph, '1', '9') # returns (distance between two nodes, the shortest path)"
   ]
  }
 ],
 "metadata": {
  "kernelspec": {
   "display_name": "Python 2",
   "language": "python",
   "name": "python2"
  },
  "language_info": {
   "codemirror_mode": {
    "name": "ipython",
    "version": 2
   },
   "file_extension": ".py",
   "mimetype": "text/x-python",
   "name": "python",
   "nbconvert_exporter": "python",
   "pygments_lexer": "ipython2",
   "version": "2.7.12"
  }
 },
 "nbformat": 4,
 "nbformat_minor": 0
}
